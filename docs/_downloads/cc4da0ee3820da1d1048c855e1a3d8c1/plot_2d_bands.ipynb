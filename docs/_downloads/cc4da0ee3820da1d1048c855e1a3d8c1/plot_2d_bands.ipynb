{
  "cells": [
    {
      "cell_type": "markdown",
      "metadata": {},
      "source": [
        "# Plotting 2D band structure {#ref_plotting_2d_bands}\r\n\r\nPlotting 2D band structure example.\r\n\r\nFirst, specify the data directory where the band structure data is\r\nlocated.\r\n\r\n``` {caption=\"Downloading example\"}\r\ndata_dir = pyprocar.download_example(save_dir='', \r\n                            material='graphene',\r\n                            code='vasp', \r\n                            spin_calc_type='non-spin-polarized',\r\n                            calc_type='2d_bands')\r\n```\r\n"
      ]
    },
    {
      "cell_type": "markdown",
      "metadata": {},
      "source": [
        "importing pyprocar and specifying local data_dir\r\n"
      ]
    },
    {
      "cell_type": "code",
      "execution_count": null,
      "metadata": {
        "collapsed": false
      },
      "outputs": [],
      "source": [
        "import os\nimport pyprocar\n\ndata_dir = f\"{pyprocar.utils.ROOT}{os.sep}data{os.sep}examples{os.sep}graphene{os.sep}vasp{os.sep}non-spin-polarized{os.sep}2d_bands\""
      ]
    },
    {
      "cell_type": "markdown",
      "metadata": {},
      "source": [
        "# Plain mode\r\n"
      ]
    },
    {
      "cell_type": "code",
      "execution_count": null,
      "metadata": {
        "collapsed": false
      },
      "outputs": [],
      "source": [
        "spins=[0]\nhandler = pyprocar.BandStructure2DHandler(code='vasp',dirname=data_dir,apply_symmetry=False)\nhandler.plot_band_structure(mode='plain',\n                            add_fermi_plane=True,\n                            bands=[3,4],\n                            fermi_plane_size=4,\n                            energy_lim=[-2.5,0.8],\n                            extended_zone_directions=[[1,0,0],[0,1,0],[-1,0,0],[0,-1,0],[1,-1,0],[-1,1,0],[-1,-1,0],[[1,1,0]]],\n                            spins=spins)"
      ]
    },
    {
      "cell_type": "markdown",
      "metadata": {},
      "source": [
        "# Parametric mode\r\n"
      ]
    },
    {
      "cell_type": "code",
      "execution_count": null,
      "metadata": {
        "collapsed": false
      },
      "outputs": [],
      "source": [
        "atoms=[0,1]\norbitals=[1,2,3]\nspins=[0]\nhandler = pyprocar.BandStructure2DHandler(code='vasp',dirname=data_dir,apply_symmetry=False)\nhandler.plot_band_structure(mode='parametric',\n                           atoms=atoms,\n                           orbitals=orbitals,\n                           spins=spins)"
      ]
    },
    {
      "cell_type": "markdown",
      "metadata": {},
      "source": [
        "# Property Projection mode\r\n"
      ]
    },
    {
      "cell_type": "code",
      "execution_count": null,
      "metadata": {
        "collapsed": false
      },
      "outputs": [],
      "source": [
        "handler = pyprocar.BandStructure2DHandler(code='vasp',dirname=data_dir,apply_symmetry=False)\nhandler.plot_band_structure(mode='property_projection',\n                           property_name='band_velocity',\n                           bands=[3,4],\n                           fermi_plane_size=4,\n                           scalar_bar_position_x=0.3,\n                           energy_lim=[-2.5,0.8],\n                           scalar_bar_title=r'Band Velocity ($\\frac{m}{s}$)',\n                           add_fermi_plane=True,)"
      ]
    },
    {
      "cell_type": "markdown",
      "metadata": {},
      "source": [
        "# Spin Texture mode\r\n"
      ]
    },
    {
      "cell_type": "code",
      "execution_count": null,
      "metadata": {
        "collapsed": false
      },
      "outputs": [],
      "source": [
        "data_dir =  os.path.join(pyprocar.utils.ROOT,'data','examples','BiSb_monolayer','vasp','non-colinear','fermi')\n\n\natoms=[0]\norbitals=[4,5,6,7,8]\nhandler = pyprocar.BandStructure2DHandler(code='vasp',dirname=data_dir,apply_symmetry=False)\nhandler.plot_band_structure(mode='spin_texture',\n                           spin_texture=True,\n                           atoms=atoms,\n                           orbitals=orbitals,\n                           add_fermi_plane=True,\n                           fermi_plane_size=2,\n                           energy_lim=[-2,2],\n                           fermi_text_position=[0,0.5,0],\n                           scalar_bar_position_x=0.3,\n\n                           clip_brillouin_zone_factor=1,\n                           surface_clim=[-0.5,0.5])"
      ]
    }
  ],
  "metadata": {
    "kernelspec": {
      "display_name": "Python 3",
      "language": "python",
      "name": "python3"
    },
    "language_info": {
      "codemirror_mode": {
        "name": "ipython",
        "version": 3
      },
      "file_extension": ".py",
      "mimetype": "text/x-python",
      "name": "python",
      "nbconvert_exporter": "python",
      "pygments_lexer": "ipython3",
      "version": "3.8.17"
    }
  },
  "nbformat": 4,
  "nbformat_minor": 0
}