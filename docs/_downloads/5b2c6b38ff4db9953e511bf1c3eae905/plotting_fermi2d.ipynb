{
  "cells": [
    {
      "cell_type": "code",
      "execution_count": null,
      "metadata": {
        "collapsed": false
      },
      "outputs": [],
      "source": [
        "%matplotlib inline"
      ]
    },
    {
      "cell_type": "markdown",
      "metadata": {},
      "source": [
        "# Plotting fermi2d {#ref_plotting_fermi2d}\r\n\r\nPlotting fermi2d example.\r\n\r\nFirst download the example files with the code below. Then replace\r\ndata_dir below.\r\n\r\n``` {. caption=\"Downloading example\"}\r\ndata_dir = pyprocar.download_example(save_dir='', \r\n                            material='Fe',\r\n                            code='qe', \r\n                            spin_calc_type='non-spin-polarized',\r\n                            calc_type='fermi')\r\n```\r\n"
      ]
    },
    {
      "cell_type": "markdown",
      "metadata": {},
      "source": [
        "importing pyprocar and specifying local data_dir\r\n"
      ]
    },
    {
      "cell_type": "code",
      "execution_count": null,
      "metadata": {
        "collapsed": false
      },
      "outputs": [],
      "source": [
        "import os\nimport pyprocar\n\n\nparent_dir = os.path.dirname(os.path.dirname(os.path.dirname(os.getcwd())))\ndata_dir = f\"{parent_dir}{os.sep}data{os.sep}qe{os.sep}fermi{os.sep}colinear{os.sep}Fe\""
      ]
    },
    {
      "cell_type": "markdown",
      "metadata": {},
      "source": [
        "# Plain mode\r\n"
      ]
    },
    {
      "cell_type": "code",
      "execution_count": null,
      "metadata": {
        "collapsed": false
      },
      "outputs": [],
      "source": [
        "pyprocar.fermi2D(code = 'qe', \n                dirname=data_dir)"
      ]
    },
    {
      "cell_type": "markdown",
      "metadata": {},
      "source": [
        "# Projection\r\n\r\nDoes not work. Contact developers\r\n"
      ]
    },
    {
      "cell_type": "code",
      "execution_count": null,
      "metadata": {
        "collapsed": false
      },
      "outputs": [],
      "source": [
        "atoms=[0]\norbitals=[4,5,6,7,8]\nspins=[0]\npyprocar.fermi2D(code = 'qe', \n                atoms=atoms,\n                orbitals=orbitals,\n                spins=spins,\n                dirname=data_dir, \n                spin_texture=False)"
      ]
    }
  ],
  "metadata": {
    "kernelspec": {
      "display_name": "Python 3",
      "language": "python",
      "name": "python3"
    },
    "language_info": {
      "codemirror_mode": {
        "name": "ipython",
        "version": 3
      },
      "file_extension": ".py",
      "mimetype": "text/x-python",
      "name": "python",
      "nbconvert_exporter": "python",
      "pygments_lexer": "ipython3",
      "version": "3.8.0"
    }
  },
  "nbformat": 4,
  "nbformat_minor": 0
}