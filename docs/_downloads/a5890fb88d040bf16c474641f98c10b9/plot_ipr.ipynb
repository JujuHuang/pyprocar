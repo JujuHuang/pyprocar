{
  "cells": [
    {
      "cell_type": "markdown",
      "metadata": {},
      "source": [
        "# Plotting Inverse participation ratio {#ref_plot_ipr}\r\n\r\nOften it is needed to search for **localized** modes within the band\r\nstructure, typical examples are surface/interface states and defect\r\nlevels. The usual procedure for detecting them is looking for bands with\r\na large projection around the atoms at the surface or defect. This\r\nprocedure is both cumbersome for the user and error-prone. For instance,\r\nthe lowest unoccupied levels of the neutral $C_N$ defect in h-BN has\r\npractically no projection on the defect atom and its nearest neighbors.\r\nThis delayed its identification as a single-photon\r\nemitter.\\[jara2021,auburger2021\\] A much simpler way to detect these\r\nlocalized levels is by means of the **Inverse Participation Ratio**,\r\ndefined as\r\n\r\n$$IPR_{nk} = \\frac{\\sum_{a} |c_{nki}|^4}{\\left(\\sum_a c_{nka}\\right)^2}$$\r\n\r\nwhere the indexes $n,k,a$ are the band, k-point and atom, respectively.\r\nThis function has been extensively applied in the context of Anderson\r\nlocalization.\\[Evers2000\\] However, can capture any kind of\r\nlocalization. A perfectly localized state -**i.e.** localized in a\r\nsingle atom- would have $IPR=1$, but a fully extended state has\r\n$IPR=\\frac{1}{N}$, with $N$ the total number of atoms.\r\n\r\n## Preparation\r\n\r\nBefore diving into plotting, we need to download the example files. Use\r\nthe following code to do this. Once downloaded, specify the\r\n[data_dir]{.title-ref} to point to the location of the downloaded data.\r\n\r\n``` {caption=\"Downloading example\"}\r\nimport pyprocar\r\n\r\nbi2se3_data_dir = pyprocar.download_example(\r\n                            save_dir='', \r\n                            material='Bi2Se3-spinorbit-surface',\r\n                            code='vasp', \r\n                            spin_calc_type='spin-polarized-colinear',\r\n                            calc_type='bands'\r\n                            )\r\n```\r\n"
      ]
    },
    {
      "cell_type": "markdown",
      "metadata": {},
      "source": [
        "# Setting up the environment\r\n\r\nFirst, we will import the necessary libraries and set up our data\r\ndirectory path.\r\n"
      ]
    },
    {
      "cell_type": "code",
      "execution_count": null,
      "metadata": {
        "collapsed": false
      },
      "outputs": [],
      "source": [
        "import os\nimport pyprocar\n\n# Define the directory containing the example data\nbi2se3_data_dir = f\"{pyprocar.utils.ROOT}{os.sep}data{os.sep}examples{os.sep}Bi2Se3-spinorbit-surface\"\n\n\nC_data_dir = f\"{pyprocar.utils.ROOT}{os.sep}data{os.sep}examples{os.sep}NV-center\""
      ]
    },
    {
      "cell_type": "markdown",
      "metadata": {},
      "source": [
        "# Topologically-protected surface states in $Bi_2Se_3$\r\n\r\nThe first example is the detection of topologically-protected surface\r\nstates in $Bi_2Se_3$, \\[zhang2009\\]. The whole slab has six van der\r\nWaals layers (quintuple layers), each is five atom thick. The surface\r\nstates localize on the outer quintuple layers, in contrast a extended\r\nstate cover the six quintuple layers. The ratio between the localization\r\nof both types of states is 1 to 3, and the \\$IPR\\$ has enough resolution\r\nto provide a clear visual identification. The PyProcar code is:\r\n"
      ]
    },
    {
      "cell_type": "code",
      "execution_count": null,
      "metadata": {
        "collapsed": false
      },
      "outputs": [],
      "source": [
        "pyprocar.bandsplot(dirname=bi2se3_data_dir,\n                   elimit=[-1.0,1.0],\n                   mode='ipr',\n                   code='vasp',\n                   spins=[0],\n                   clim=[0,0.2])"
      ]
    },
    {
      "cell_type": "markdown",
      "metadata": {},
      "source": [
        "# $NV^-$ defect in diamond\r\n\r\nThe second example is the $NV^-$ defect in diamond, it is a negatively\r\ncharged N substitution plus an adjacent vacancy. This defect if of\r\ninterest as a source of single photons. Its ground state is a triplet,\r\nallowing the control of the spin by microwave radiation.\\[DOHERTY2013\\]\r\nThe supercell has 215 atoms, hence $IPR\\to0$ for bulk states (blue\r\nlines). Several defect levels lie within the fundamental band gap of\r\ndiamond (dark red lines). The closest levels to the Fermi energy are\r\ndouble degenerate (**i.e.** triplet), but only occupied for the spin\r\nmajority. Hence, according to the optical transition takes place between\r\nthe bands with index $430\\to431$ or $430\\to432$ of the spin channel\r\nlabelled [spin-1]{.title-ref}. The calculation of the main emission line\r\ninvolves a calculation of the excited state, which can be simulated by\r\nfixing the occupations of the mentioned levels, **i.e.** the $\\Delta$\r\nSCFmethod.\\[Jin2021\\] The pyprocar code is:\r\n"
      ]
    },
    {
      "cell_type": "code",
      "execution_count": null,
      "metadata": {
        "collapsed": false
      },
      "outputs": [],
      "source": [
        "pyprocar.bandsplot(dirname=C_data_dir, \n                   elimit=[-3.0,2.5], \n                   mode='ipr',\n                   code='vasp', \n                   spins=[0,1], \n                   clim=[0,0.1])"
      ]
    }
  ],
  "metadata": {
    "kernelspec": {
      "display_name": "Python 3",
      "language": "python",
      "name": "python3"
    },
    "language_info": {
      "codemirror_mode": {
        "name": "ipython",
        "version": 3
      },
      "file_extension": ".py",
      "mimetype": "text/x-python",
      "name": "python",
      "nbconvert_exporter": "python",
      "pygments_lexer": "ipython3",
      "version": "3.8.17"
    }
  },
  "nbformat": 4,
  "nbformat_minor": 0
}