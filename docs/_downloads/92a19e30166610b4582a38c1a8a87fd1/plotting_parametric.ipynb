{
  "cells": [
    {
      "cell_type": "code",
      "execution_count": null,
      "metadata": {
        "collapsed": false
      },
      "outputs": [],
      "source": [
        "%matplotlib inline"
      ]
    },
    {
      "cell_type": "markdown",
      "metadata": {},
      "source": [
        "# Plotting parametric band structure {#ref_plotting_parametric}\r\n\r\nPlotting parametric band structure .\r\n\r\nFirst download the example files with the code below. Then replace\r\ndata_dir below.\r\n\r\n``` {. caption=\"Downloading example\"}\r\ndata_dir = pyprocar.download_example(save_dir='', \r\n                             material='Fe',\r\n                             code='qe', \r\n                             spin_calc_type='non-spin-polarized',\r\n                             calc_type='bands')\r\n```\r\n"
      ]
    },
    {
      "cell_type": "code",
      "execution_count": null,
      "metadata": {
        "collapsed": false
      },
      "outputs": [],
      "source": [
        "import os\nimport pyprocar\n\n\nparent_dir = os.path.dirname(os.path.dirname(os.path.dirname(os.getcwd())))\ndata_dir = f\"{parent_dir}{os.sep}data{os.sep}qe{os.sep}bands{os.sep}colinear{os.sep}Fe\""
      ]
    },
    {
      "cell_type": "markdown",
      "metadata": {},
      "source": [
        "# Parametric mode\r\n\r\nParametric mode will plot the atomic, orbital, and spin projections onto\r\nthe bands.\r\n\r\n## Spin projection\r\n\r\nFor collinear spin polarized and non-collinear spin calculations of DFT\r\ncodes, PyProcar is able to plot the bands considering spin density\r\n(magnitude), spin magnetization and spin channels separately.\r\n\r\nFor non-collinear spin calculations, `spin=[0]` plots the spin density\r\n(magnitude) and `spin=[1,2,3]` corresponds to spins oriented in $S_x$,\r\n$S_y$ and $S_z$ directions respectively. For parametric plots such as\r\nspin, atom and orbitals, the user should set `` mode=`parametric' ``.\r\n`cmap` refers to the matplotlib color map used for the parametric\r\nplotting and can be modified by using the same color maps used in\r\nmatplotlib. `cmap='seismic'` is recommended for parametric spin band\r\nstructure plots. For colinear spin calculations setting `spin=[0]` plots\r\nthe spin density (magnitude) and `spin=[1]` plots the spin\r\nmagnetization.\r\n\r\n## Atom projection\r\n\r\nThe projection of atoms onto bands can provide information such as which\r\natoms contribute to the electronic states near the Fermi level. PyProcar\r\ncounts each row of ions in the PROCAR file, starting from zero. In an\r\nexample of a five atom SrVO$_3$, the indexes of `atoms` for Sr, V and\r\nthe three O atoms would be 0,1 and 2,3,4 respectively. It is also\r\npossible to include more than one type of atom by using an array such as\r\n`atoms = [0,1,3]`.\r\n\r\n## Orbital projection\r\n\r\nThe projection of atomic orbitals onto bands is also useful to identify\r\nthe contribution of orbitals to bands. For instance, to identify\r\ncorrelated $d$ or $f$ orbitals in a strongly correlated material near\r\nthe Fermi level. It is possible to include more than one type of orbital\r\nprojection. The mapping of the index of orbitals to be used in\r\n`orbitals` is as follows (this is the same order from the PROCAR file).\r\nQuantum Espresso, VASP and Abinit follows this order. .. image::\r\nimages/orbitals.png\r\n"
      ]
    },
    {
      "cell_type": "code",
      "execution_count": null,
      "metadata": {
        "collapsed": false
      },
      "outputs": [],
      "source": [
        "# In Quantum Espresso, if the calculation is a non-colinear spin-orbit calculation. THe orbitals will follow the this order:\n# Creat png of the spin_orbit orbitals\n\n\natoms=[0]\norbitals=[4,5,6,7,8]\nspins=[0]\n\npyprocar.bandsplot(\n                code='qe', \n                mode='parametric',\n                atoms=atoms,\n                orbitaks=orbitals,\n                spins=spins,\n                dirname=data_dir)"
      ]
    }
  ],
  "metadata": {
    "kernelspec": {
      "display_name": "Python 3",
      "language": "python",
      "name": "python3"
    },
    "language_info": {
      "codemirror_mode": {
        "name": "ipython",
        "version": 3
      },
      "file_extension": ".py",
      "mimetype": "text/x-python",
      "name": "python",
      "nbconvert_exporter": "python",
      "pygments_lexer": "ipython3",
      "version": "3.8.0"
    }
  },
  "nbformat": 4,
  "nbformat_minor": 0
}