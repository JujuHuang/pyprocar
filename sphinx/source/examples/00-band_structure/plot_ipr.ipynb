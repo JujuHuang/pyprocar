{
  "cells": [
    {
      "cell_type": "markdown",
      "metadata": {},
      "source": [
        "::: {#ref_plot_ipr}\r\nPlotting Inverse participation ratio\r\n\\~\\~\\~\\~\\~\\~\\~\\~\\~\\~\\~\\~\\~\\~\\~\\~\\~\\~\\~\\~\\~\\~\r\n:::\r\n\r\nOften it is needed to search for extit{localized} modes within the band\r\nstructure, typical examples are surface/interface states and defect\r\nlevels. The usual procedure for detecting them is looking for bands with\r\na large projection around the atoms at the surface or defect. This\r\nprocedure is both cumbersome for the user and error-prone. For instance,\r\nthe lowest unoccupied levels of the neutral C\\$\\_N\\$ defect in h-BN has\r\npractically no projection on the defect atom and its nearest neighbors.\r\nThis delayed its identification as a single-photon\r\nemitter.cite{jara2021,auburger2021} A much simpler way to detect these\r\nlocalized levels is by means of the extit{Inverse Participation Ratio},\r\ndefined as\r\n\r\n$$IPR_{nk} = \frac{\\sum_{a} |c_{nki}|^4}{\\left(\\sum_a c_{nka}ight)^2}$$\r\n\r\nwhere the indexes \\$n,k,a\\$ are the band, k-point and atom,\r\nrespectively. This function has been extensively applied in the context\r\nof Anderson localization.cite{Evers2000} However, can capture any kind\r\nof localization. A perfectly localized state - extit{i.e.} localized in\r\na single atom- would have \\$IPR=1\\$, but a fully extended state has\r\n\\$IPR=\frac{1}{N}\\$, with \\$N\\$ the total number of atoms.\r\n\r\n# Preparation\r\n\r\nBefore diving into plotting, we need to download the example files. Use\r\nthe following code to do this. Once downloaded, specify the\r\n[data_dir]{.title-ref} to point to the location of the downloaded data.\r\n\r\n``` {caption=\"Downloading example\"}\r\nimport pyprocar\r\n\r\nbi2se3_data_dir = pyprocar.download_example(\r\n                            save_dir='', \r\n                            material='Bi2Se3-spinorbit-surface',\r\n                            code='vasp', \r\n                            spin_calc_type='spin-polarized-colinear',\r\n                            calc_type='bands'\r\n                           )\r\n```\r\n"
      ]
    },
    {
      "cell_type": "markdown",
      "metadata": {},
      "source": [
        "# Setting up the environment\r\n\r\nFirst, we will import the necessary libraries and set up our data\r\ndirectory path.\r\n"
      ]
    },
    {
      "cell_type": "code",
      "execution_count": null,
      "metadata": {
        "collapsed": false
      },
      "outputs": [],
      "source": [
        "import os\nimport pyprocar\n\n# Define the directory containing the example data\nbi2se3_data_dir = f\"{pyprocar.utils.ROOT}{os.sep}data{os.sep}examples{os.sep}Bi2Se3-spinorbit-surface\"\n\n\nC_data_dir = f\"{pyprocar.utils.ROOT}{os.sep}data{os.sep}examples{os.sep}NV-center\""
      ]
    },
    {
      "cell_type": "markdown",
      "metadata": {},
      "source": [
        "# Topologically-protected surface states in Bi\\$\\_2\\$Se\\$\\_3\\$\r\n"
      ]
    },
    {
      "cell_type": "code",
      "execution_count": null,
      "metadata": {
        "collapsed": false
      },
      "outputs": [],
      "source": [
        "# The first example is the detection of topologically-protected surface states in Bi$_2$Se$_3$,\\cite{zhang2009} see Fig.~\\ref{fig:ipr}a. \n# The whole slab has six van der Waals layers (quintuple layers), each is five atom thick. The surface states localize on the outer quintuple layers, \n# in contrast a extended state cover the six quintuple layers. \n# The ratio between the localization of both types of states is 1 to 3, and the $IPR$ has enough resolution to provide a clear visual identification. \n# The PyProcar code is:\n\npyprocar.bandsplot(dirname=bi2se3_data_dir,\n                   elimit=[-1.0,1.0],\n                   mode='ipr',\n                   code='vasp',\n                   spins=[0],\n                   clim=[0,0.2])"
      ]
    },
    {
      "cell_type": "markdown",
      "metadata": {},
      "source": [
        "# NV\\$\\^-\\$ defect in diamond\r\n\r\nThe second example is the NV\\$\\^-\\$ defect in diamond, it is a\r\nnegatively charged N substitution plus an adjacent vacancy. This defect\r\nif of interest as a source of single photons. Its ground state is a\r\ntriplet, allowing the control of the spin by microwave\r\nradiation.cite{DOHERTY2013} The energy levels of a diamond supercell\r\nhosting the defect are in Fig.\\~ref{fig:ipr}b. The supercell has 215\r\natoms, hence \\$IPRto 0\\$ for bulk states (blue lines). Several defect\r\nlevels lie within the fundamental band gap of diamond (dark red lines).\r\nThe closest levels to the Fermi energy are double degenerate\r\n(textit{i.e.} triplet), but only occupied for the spin majority. Hence,\r\naccording to the optical transition takes place between the bands with\r\nindex \\$430to 431\\$ or \\$430to432\\$ of the spin channel labelled\r\n\\`spin-1\\'. The calculation of the main emission line involves a\r\ncalculation of the excited state, which can be simulated by fixing the\r\noccupations of the mentioned levels, textit{i.e.} the\r\n\\$Delta\\$SCFmethod.cite{Jin2021} The pyprocar code is:\r\n"
      ]
    },
    {
      "cell_type": "code",
      "execution_count": null,
      "metadata": {
        "collapsed": false
      },
      "outputs": [],
      "source": [
        "pyprocar.bandsplot(dirname=C_data_dir, \n                   elimit=[-3.0,2.5], \n                   mode='ipr',\n                   code='vasp', \n                   spins=[0,1], \n                   clim=[0,0.1])"
      ]
    }
  ],
  "metadata": {
    "kernelspec": {
      "display_name": "Python 3",
      "language": "python",
      "name": "python3"
    },
    "language_info": {
      "codemirror_mode": {
        "name": "ipython",
        "version": 3
      },
      "file_extension": ".py",
      "mimetype": "text/x-python",
      "name": "python",
      "nbconvert_exporter": "python",
      "pygments_lexer": "ipython3",
      "version": "3.8.17"
    }
  },
  "nbformat": 4,
  "nbformat_minor": 0
}