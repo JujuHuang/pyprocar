{
  "cells": [
    {
      "cell_type": "markdown",
      "metadata": {},
      "source": [
        "# Autobands plotting {#ref_plot_autbands}\r\n\r\nOne of the most powerful capabilities of PyProcar is allowing to\r\ncorrelate real space with electronic structure, for instance finding\r\nsurface states or defect levels. Traditionally this task is done by the\r\nuser, providing a list of atoms representing the surface or the defect\r\n(parameter `atom` in `bandsplot`). Also the user needs to choose a\r\nrelevant energy window for the plot and setting the boundaries of the\r\ncolor scale to highlight the relevant states. That process is both\r\ntedious and error prone: for instance the user need to find the special\r\natoms (*e.g.* defect, surface, etc.) and take care of whether the\r\nindexes are 0- or 1-based.\r\n\r\nSpecifically, the function aims to: - Determine an optimal energy window\r\nfor the plot, which includes bulk-like bands both above and below the\r\n*fundamental* band gap for insulators, as well as any localized states\r\nwithin that gap. - Identify important real-space features such as\r\ndefects, surfaces, and van der Waals layers. - Locate localized\r\nelectronic states within the selected energy window. - Calculate\r\nsuitable values for the color map to emphasize these localized states.\r\n\r\nAll these tasks are executed without requiring user intervention. The\r\nidentification of real-space features is carried out using PyPoscar.\r\nLocalized states are identified through the Inverse Participation Ratio\r\n(IPR). The function correlates the geometry and electronic structure by\r\nevaluating the participation of relevant atoms in the IPR calculations.\r\n\r\nThis automated identification of key features is most effective when the\r\natoms of interest are statistically distinct from the rest of the\r\nsystem, both in real space and electronic structure. In scenarios where\r\nsuch distinctions are not readily apparent, the function will default to\r\ngenerating a standard band structure plot. It\\'s important to note that\r\nwhile our current implementation is robust, there may be some\r\ngeometrical features it does not yet capture. However, we anticipate\r\nthat the function will continue to improve based on user feedback.\r\n\r\n## Preparation\r\n\r\nBefore diving into plotting, we need to download the example files. Use\r\nthe following code to do this. Once downloaded, specify the\r\n[data_dir]{.title-ref} to point to the location of the downloaded data.\r\n\r\n``` {caption=\"Downloading example\"}\r\nimport pyprocar\r\n\r\nbi2se3_data_dir = pyprocar.download_example(\r\n                            save_dir='', \r\n                            material='auto',\r\n                            code='vasp', \r\n                            spin_calc_type='non-spin-polarized',\r\n                            calc_type='bands'\r\n                           )\r\n```\r\n"
      ]
    },
    {
      "cell_type": "markdown",
      "metadata": {},
      "source": [
        "# Setting up the environment\r\n\r\nFirst, we will import the necessary libraries and set up our data\r\ndirectory path.\r\n"
      ]
    },
    {
      "cell_type": "code",
      "execution_count": null,
      "metadata": {
        "collapsed": false
      },
      "outputs": [],
      "source": [
        "import os\nimport pyprocar\n\n# Define the directory containing the example data\ndata_dir = f\"{pyprocar.utils.ROOT}{os.sep}data{os.sep}examples{os.sep}auto\""
      ]
    },
    {
      "cell_type": "markdown",
      "metadata": {},
      "source": [
        "# Autobands Example\r\n\r\nAs an example of this functionality, we calculate a slab of a\r\ntopologically non-trivial phase of Bi. It features surface states with\r\nDirac cones at high-symmetry points. The code used to plot the band\r\nstructure is below. The title of the figure is `Defect 0`, which\r\ncorresponds to the upper surface of the slab, the other surface\r\ngenerates a second figure, with title `Defect 1`. When running the code\r\nabove, a file `report.txt` is generated with info about the atoms\r\ncomprising each defect, and the associated localized states.\r\n"
      ]
    },
    {
      "cell_type": "code",
      "execution_count": null,
      "metadata": {
        "collapsed": false
      },
      "outputs": [],
      "source": [
        "pyprocar.autobandsplot(code='vasp', dirname=data_dir)"
      ]
    }
  ],
  "metadata": {
    "kernelspec": {
      "display_name": "Python 3",
      "language": "python",
      "name": "python3"
    },
    "language_info": {
      "codemirror_mode": {
        "name": "ipython",
        "version": 3
      },
      "file_extension": ".py",
      "mimetype": "text/x-python",
      "name": "python",
      "nbconvert_exporter": "python",
      "pygments_lexer": "ipython3",
      "version": "3.8.17"
    }
  },
  "nbformat": 4,
  "nbformat_minor": 0
}