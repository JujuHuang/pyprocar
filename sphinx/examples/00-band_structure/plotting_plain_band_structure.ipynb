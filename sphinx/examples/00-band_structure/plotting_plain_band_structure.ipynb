{
  "cells": [
    {
      "cell_type": "code",
      "execution_count": null,
      "metadata": {
        "collapsed": false
      },
      "outputs": [],
      "source": [
        "%matplotlib inline"
      ]
    },
    {
      "cell_type": "markdown",
      "metadata": {},
      "source": [
        "# Plotting plain band structure {#ref_plotting_plain_band_structure}\r\n\r\nPlotting plain band structure .\r\n\r\nFirst download the example files with the code below. Then replace\r\ndata_dir below.\r\n\r\n``` {. caption=\"Downloading example\"}\r\ndata_dir = pyprocar.download_example(save_dir='', \r\n                             material='Fe',\r\n                             code='qe', \r\n                             spin_calc_type='non-spin-polarized',\r\n                             calc_type='bands')\r\n```\r\n"
      ]
    },
    {
      "cell_type": "code",
      "execution_count": null,
      "metadata": {
        "collapsed": false
      },
      "outputs": [],
      "source": [
        "import os\nimport pyprocar\n\n\nparent_dir = os.path.dirname(os.path.dirname(os.path.dirname(os.getcwd())))\ndata_dir = f\"{parent_dir}{os.sep}data{os.sep}qe{os.sep}bands{os.sep}colinear{os.sep}Fe\"\n\npyprocar.bandsplot(\n                code='qe', \n                mode='plain',\n                dirname=data_dir)"
      ]
    }
  ],
  "metadata": {
    "kernelspec": {
      "display_name": "Python 3",
      "language": "python",
      "name": "python3"
    },
    "language_info": {
      "codemirror_mode": {
        "name": "ipython",
        "version": 3
      },
      "file_extension": ".py",
      "mimetype": "text/x-python",
      "name": "python",
      "nbconvert_exporter": "python",
      "pygments_lexer": "ipython3",
      "version": "3.8.0"
    }
  },
  "nbformat": 4,
  "nbformat_minor": 0
}