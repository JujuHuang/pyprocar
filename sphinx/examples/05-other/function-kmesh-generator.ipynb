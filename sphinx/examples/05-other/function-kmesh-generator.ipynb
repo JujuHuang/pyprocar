{
  "cells": [
    {
      "cell_type": "code",
      "execution_count": null,
      "metadata": {
        "collapsed": false
      },
      "outputs": [],
      "source": [
        "%matplotlib inline"
      ]
    },
    {
      "cell_type": "markdown",
      "metadata": {},
      "source": [
        "# k mesh generator {#ref_kmesh_generator}\r\n\r\nThis utility can be used to generate a 2D $k$-mesh centered at a given\r\n$k$-point and in a given $k$-plane. This is particularly useful in\r\ncomputing 2D spin-textures and plotting 2D Fermi-surfaces. For example,\r\nthe following command creates a 2D $k_{x}$-$k_{y}$ -mesh centered at the\r\n$\\Gamma$ point ($k_{z}= 0$) ranging from coordinates (-0.5, -0.5, 0.0)\r\nto (0.5, 0.5, 0.0) with 5 grids in the x direction and 7 grids in the y\r\ndirection\r\n\r\n``` {. caption=\"General Format\"}\r\npyprocar.generate2dkmesh(x1,y1,x2,y2,z,num_grids_x,num_grids_y)\r\n```\r\n"
      ]
    },
    {
      "cell_type": "markdown",
      "metadata": {},
      "source": [
        "Reeeeeeeeeeeeeeeeeeeeeeeeeee +++++++++++++++\r\n"
      ]
    },
    {
      "cell_type": "code",
      "execution_count": null,
      "metadata": {
        "collapsed": false
      },
      "outputs": [],
      "source": [
        "import pyvista\nimport pyprocar\n\npyvista.OFF_SCREEN = True\n\nkpoints = pyprocar.generate2dkmesh(-0.5,-0.5,0.5,0.5,0,5,7)\nprint(kpoints)"
      ]
    },
    {
      "cell_type": "markdown",
      "metadata": {},
      "source": [
        "This information is returned in a numpy array \\[n_kpoints, 3\\] and will\r\nautomatically be written to a KPOINTS file.\r\n"
      ]
    },
    {
      "cell_type": "markdown",
      "metadata": {},
      "source": [
        "Visualizing the k-mesh +++++++++++++++\r\n\r\nYou can visualize the kmesh with a plotting package. In this case we use\r\npyvista\r\n"
      ]
    },
    {
      "cell_type": "code",
      "execution_count": null,
      "metadata": {
        "collapsed": false
      },
      "outputs": [],
      "source": [
        "plotter=pyvista.Plotter()\nplotter.add_mesh(kpoints, color='blue', render_points_as_spheres=True, point_size=20)\nplotter.show_axes()\nplotter.show_grid()\nplotter.show()"
      ]
    }
  ],
  "metadata": {
    "kernelspec": {
      "display_name": "Python 3",
      "language": "python",
      "name": "python3"
    },
    "language_info": {
      "codemirror_mode": {
        "name": "ipython",
        "version": 3
      },
      "file_extension": ".py",
      "mimetype": "text/x-python",
      "name": "python",
      "nbconvert_exporter": "python",
      "pygments_lexer": "ipython3",
      "version": "3.8.0"
    }
  },
  "nbformat": 4,
  "nbformat_minor": 0
}